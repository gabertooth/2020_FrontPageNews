{
 "cells": [
  {
   "cell_type": "markdown",
   "metadata": {},
   "source": [
    "# EDA"
   ]
  },
  {
   "cell_type": "code",
   "execution_count": 5,
   "metadata": {},
   "outputs": [],
   "source": []
  },
  {
   "cell_type": "code",
   "execution_count": 6,
   "metadata": {},
   "outputs": [],
   "source": [
    "import time\n",
    "from selenium import webdriver #Selenium web driver\n",
    "from selenium.webdriver.common.keys import Keys #Selenium wkeys\n",
    "from bs4 import BeautifulSoup #BeatifulSoup for webscraping\n",
    "import pandas as pd #Pandas dataframes and etc.\n",
    "\n",
    "driver= webdriver.Chrome(executable_path=r'C:\\Users\\GBLS\\Desktop\\FakeNews\\2020_FrontPageNews\\chromedriver')\n",
    "CNN_headline_data=[]\n",
    "date=[]\n",
    "counter=0\n",
    "    \n",
    "for link in missing_feb:\n",
    "    counter+=1\n",
    "    driver.get(str(link))\n",
    "    html=driver.page_source\n",
    "\n",
    "    soup= BeautifulSoup(html, 'html.parser')\n",
    "\n",
    "    for div in soup.findAll('span','cd__headline-text'):\n",
    "        CNN_headline_data.append(div.text)\n",
    "        date.append(str(link)[28:36])\n",
    "    CNN_headline_data.append(soup.find('h2'))\n",
    "    date.append(str(link)[28:36])\n",
    "    counter+=1\n",
    "    if counter%15==0:\n",
    "        time.sleep(300)\n",
    "df_CNN_Jan= pd.DataFrame({'Date':date, 'Text':CNN_headline_data}) "
   ]
  },
  {
   "cell_type": "code",
   "execution_count": 8,
   "metadata": {},
   "outputs": [],
   "source": [
    "df_CNN_Jan.to_csv('Missing_Feb')"
   ]
  },
  {
   "cell_type": "code",
   "execution_count": 10,
   "metadata": {},
   "outputs": [
    {
     "data": {
      "text/html": [
       "<div>\n",
       "<style scoped>\n",
       "    .dataframe tbody tr th:only-of-type {\n",
       "        vertical-align: middle;\n",
       "    }\n",
       "\n",
       "    .dataframe tbody tr th {\n",
       "        vertical-align: top;\n",
       "    }\n",
       "\n",
       "    .dataframe thead th {\n",
       "        text-align: right;\n",
       "    }\n",
       "</style>\n",
       "<table border=\"1\" class=\"dataframe\">\n",
       "  <thead>\n",
       "    <tr style=\"text-align: right;\">\n",
       "      <th></th>\n",
       "      <th>Date</th>\n",
       "      <th>Text</th>\n",
       "    </tr>\n",
       "  </thead>\n",
       "  <tbody>\n",
       "    <tr>\n",
       "      <td>0</td>\n",
       "      <td>20200205</td>\n",
       "      <td>Plane breaks apart</td>\n",
       "    </tr>\n",
       "    <tr>\n",
       "      <td>1</td>\n",
       "      <td>20200205</td>\n",
       "      <td>Flawed coronavirus report</td>\n",
       "    </tr>\n",
       "    <tr>\n",
       "      <td>2</td>\n",
       "      <td>20200205</td>\n",
       "      <td>Robert Pattinson</td>\n",
       "    </tr>\n",
       "    <tr>\n",
       "      <td>3</td>\n",
       "      <td>20200205</td>\n",
       "      <td>Tesla stock</td>\n",
       "    </tr>\n",
       "    <tr>\n",
       "      <td>4</td>\n",
       "      <td>20200205</td>\n",
       "      <td>Snow Moon</td>\n",
       "    </tr>\n",
       "    <tr>\n",
       "      <td>...</td>\n",
       "      <td>...</td>\n",
       "      <td>...</td>\n",
       "    </tr>\n",
       "    <tr>\n",
       "      <td>122</td>\n",
       "      <td>20200205</td>\n",
       "      <td>SpaceX launches 60 more satellites for its bro...</td>\n",
       "    </tr>\n",
       "    <tr>\n",
       "      <td>123</td>\n",
       "      <td>20200205</td>\n",
       "      <td>Opinion: The 'race to 5G' is a myth</td>\n",
       "    </tr>\n",
       "    <tr>\n",
       "      <td>124</td>\n",
       "      <td>20200205</td>\n",
       "      <td>The big differences between 4G and 5G</td>\n",
       "    </tr>\n",
       "    <tr>\n",
       "      <td>125</td>\n",
       "      <td>20200205</td>\n",
       "      <td>Byte, the sequel to Vine and potential competi...</td>\n",
       "    </tr>\n",
       "    <tr>\n",
       "      <td>126</td>\n",
       "      <td>20200205</td>\n",
       "      <td>[TRUMP ACQUITTED]</td>\n",
       "    </tr>\n",
       "  </tbody>\n",
       "</table>\n",
       "<p>127 rows × 2 columns</p>\n",
       "</div>"
      ],
      "text/plain": [
       "         Date                                               Text\n",
       "0    20200205                                 Plane breaks apart\n",
       "1    20200205                          Flawed coronavirus report\n",
       "2    20200205                                   Robert Pattinson\n",
       "3    20200205                                        Tesla stock\n",
       "4    20200205                                          Snow Moon\n",
       "..        ...                                                ...\n",
       "122  20200205  SpaceX launches 60 more satellites for its bro...\n",
       "123  20200205                Opinion: The 'race to 5G' is a myth\n",
       "124  20200205              The big differences between 4G and 5G\n",
       "125  20200205  Byte, the sequel to Vine and potential competi...\n",
       "126  20200205                                  [TRUMP ACQUITTED]\n",
       "\n",
       "[127 rows x 2 columns]"
      ]
     },
     "execution_count": 10,
     "metadata": {},
     "output_type": "execute_result"
    }
   ],
   "source": [
    "df_CNN_Jan[df_CNN_Jan['Date']=='20200205']"
   ]
  },
  {
   "cell_type": "code",
   "execution_count": null,
   "metadata": {},
   "outputs": [],
   "source": []
  }
 ],
 "metadata": {
  "kernelspec": {
   "display_name": "Python 3",
   "language": "python",
   "name": "python3"
  },
  "language_info": {
   "codemirror_mode": {
    "name": "ipython",
    "version": 3
   },
   "file_extension": ".py",
   "mimetype": "text/x-python",
   "name": "python",
   "nbconvert_exporter": "python",
   "pygments_lexer": "ipython3",
   "version": "3.7.4"
  }
 },
 "nbformat": 4,
 "nbformat_minor": 2
}
