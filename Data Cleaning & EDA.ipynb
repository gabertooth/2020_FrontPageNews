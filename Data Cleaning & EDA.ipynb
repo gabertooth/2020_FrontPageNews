{
 "cells": [
  {
   "cell_type": "code",
   "execution_count": 1,
   "metadata": {},
   "outputs": [],
   "source": [
    "import re #Regular Expression package\n",
    "import pandas as pd #Pandas dataframes and etc.\n",
    "import os #Used for shell commands\n",
    "import numpy as np #NUmpy package\n",
    "import matplotlib.pyplot as plt #Matplotlib graphing package\n",
    "%matplotlib inline\n",
    "import nltk #NLTK NLP Package\n",
    "from nltk.tokenize import word_tokenize #NLTK NLP Package\n",
    "np.random.seed(0)\n",
    "from nltk.corpus import gutenberg, stopwords #NLTK NLP Package\n",
    "from nltk.collocations import * #NLTK NLP Package\n",
    "from nltk import FreqDist #NLTK NLP Package\n",
    "from nltk import word_tokenize #NLTK NLP Package\n",
    "from nltk.stem.porter import * #NLTK Stemming\n",
    "from nltk.stem import WordNetLemmatizer #NLTK Lemmatization\n",
    "from nltk.corpus import stopwords\n",
    "import string\n",
    "from wordcloud import WordCloud, STOPWORDS, ImageColorGenerator #WordCloud Package\n",
    "# from PIL import Image ##WordCloud Package assistance for WSJ image"
   ]
  },
  {
   "cell_type": "markdown",
   "metadata": {},
   "source": [
    "Now that we have the data for both Fox News and CNN media websites we need to clean the text data. The dataframes are organized in the same format as you can see below.   \n",
    "\n",
    "Columns are as follows:  \n",
    "    -Date  \n",
    "    -Subheadings"
   ]
  },
  {
   "cell_type": "code",
   "execution_count": 2,
   "metadata": {},
   "outputs": [
    {
     "data": {
      "text/html": [
       "<div>\n",
       "<style scoped>\n",
       "    .dataframe tbody tr th:only-of-type {\n",
       "        vertical-align: middle;\n",
       "    }\n",
       "\n",
       "    .dataframe tbody tr th {\n",
       "        vertical-align: top;\n",
       "    }\n",
       "\n",
       "    .dataframe thead th {\n",
       "        text-align: right;\n",
       "    }\n",
       "</style>\n",
       "<table border=\"1\" class=\"dataframe\">\n",
       "  <thead>\n",
       "    <tr style=\"text-align: right;\">\n",
       "      <th></th>\n",
       "      <th>Date</th>\n",
       "      <th>Text</th>\n",
       "    </tr>\n",
       "  </thead>\n",
       "  <tbody>\n",
       "    <tr>\n",
       "      <th>0</th>\n",
       "      <td>20200101</td>\n",
       "      <td>'The Five' make their predictions for 2020</td>\n",
       "    </tr>\n",
       "    <tr>\n",
       "      <th>1</th>\n",
       "      <td>20200101</td>\n",
       "      <td>The best of 'The Five' in 2019</td>\n",
       "    </tr>\n",
       "    <tr>\n",
       "      <th>2</th>\n",
       "      <td>20200101</td>\n",
       "      <td>Hate crimes at houses of worship up nearly 35 ...</td>\n",
       "    </tr>\n",
       "    <tr>\n",
       "      <th>3</th>\n",
       "      <td>20200101</td>\n",
       "      <td>US sending 750 troops to Middle East</td>\n",
       "    </tr>\n",
       "    <tr>\n",
       "      <th>4</th>\n",
       "      <td>20200101</td>\n",
       "      <td>Pompeo postpones trip to Ukraine after attack ...</td>\n",
       "    </tr>\n",
       "  </tbody>\n",
       "</table>\n",
       "</div>"
      ],
      "text/plain": [
       "       Date                                               Text\n",
       "0  20200101         'The Five' make their predictions for 2020\n",
       "1  20200101                     The best of 'The Five' in 2019\n",
       "2  20200101  Hate crimes at houses of worship up nearly 35 ...\n",
       "3  20200101               US sending 750 troops to Middle East\n",
       "4  20200101  Pompeo postpones trip to Ukraine after attack ..."
      ]
     },
     "execution_count": 2,
     "metadata": {},
     "output_type": "execute_result"
    }
   ],
   "source": [
    "FOX_2020= pd.read_csv('FOX_2020', usecols=[1,2])\n",
    "FOX_2020.head()"
   ]
  },
  {
   "cell_type": "code",
   "execution_count": 3,
   "metadata": {},
   "outputs": [
    {
     "name": "stdout",
     "output_type": "stream",
     "text": [
      "<class 'pandas.core.frame.DataFrame'>\n",
      "RangeIndex: 34539 entries, 0 to 34538\n",
      "Data columns (total 2 columns):\n",
      " #   Column  Non-Null Count  Dtype \n",
      "---  ------  --------------  ----- \n",
      " 0   Date    34539 non-null  int64 \n",
      " 1   Text    34537 non-null  object\n",
      "dtypes: int64(1), object(1)\n",
      "memory usage: 539.8+ KB\n"
     ]
    }
   ],
   "source": [
    "FOX_2020.info()"
   ]
  },
  {
   "cell_type": "code",
   "execution_count": 4,
   "metadata": {},
   "outputs": [
    {
     "data": {
      "text/plain": [
       "Date    0\n",
       "Text    2\n",
       "dtype: int64"
      ]
     },
     "execution_count": 4,
     "metadata": {},
     "output_type": "execute_result"
    }
   ],
   "source": [
    "FOX_2020.isna().sum()"
   ]
  },
  {
   "cell_type": "code",
   "execution_count": 5,
   "metadata": {},
   "outputs": [],
   "source": [
    "NaN_FOX= FOX_2020.isnull()"
   ]
  },
  {
   "cell_type": "code",
   "execution_count": 6,
   "metadata": {},
   "outputs": [],
   "source": [
    "NaN= NaN_FOX.any(axis=1)"
   ]
  },
  {
   "cell_type": "code",
   "execution_count": 7,
   "metadata": {},
   "outputs": [
    {
     "data": {
      "text/html": [
       "<div>\n",
       "<style scoped>\n",
       "    .dataframe tbody tr th:only-of-type {\n",
       "        vertical-align: middle;\n",
       "    }\n",
       "\n",
       "    .dataframe tbody tr th {\n",
       "        vertical-align: top;\n",
       "    }\n",
       "\n",
       "    .dataframe thead th {\n",
       "        text-align: right;\n",
       "    }\n",
       "</style>\n",
       "<table border=\"1\" class=\"dataframe\">\n",
       "  <thead>\n",
       "    <tr style=\"text-align: right;\">\n",
       "      <th></th>\n",
       "      <th>Date</th>\n",
       "      <th>Text</th>\n",
       "    </tr>\n",
       "  </thead>\n",
       "  <tbody>\n",
       "    <tr>\n",
       "      <th>13736</th>\n",
       "      <td>20200306</td>\n",
       "      <td>NaN</td>\n",
       "    </tr>\n",
       "    <tr>\n",
       "      <th>13750</th>\n",
       "      <td>20200306</td>\n",
       "      <td>NaN</td>\n",
       "    </tr>\n",
       "  </tbody>\n",
       "</table>\n",
       "</div>"
      ],
      "text/plain": [
       "           Date Text\n",
       "13736  20200306  NaN\n",
       "13750  20200306  NaN"
      ]
     },
     "execution_count": 7,
     "metadata": {},
     "output_type": "execute_result"
    }
   ],
   "source": [
    "FOX_2020[NaN]"
   ]
  },
  {
   "cell_type": "markdown",
   "metadata": {},
   "source": [
    "Since it is just two values we are going to just drop these two values."
   ]
  },
  {
   "cell_type": "code",
   "execution_count": 8,
   "metadata": {},
   "outputs": [],
   "source": [
    "FOX_2020.dropna(inplace=True)"
   ]
  },
  {
   "cell_type": "code",
   "execution_count": 9,
   "metadata": {},
   "outputs": [
    {
     "name": "stdout",
     "output_type": "stream",
     "text": [
      "<class 'pandas.core.frame.DataFrame'>\n",
      "Int64Index: 34537 entries, 0 to 34538\n",
      "Data columns (total 2 columns):\n",
      " #   Column  Non-Null Count  Dtype \n",
      "---  ------  --------------  ----- \n",
      " 0   Date    34537 non-null  int64 \n",
      " 1   Text    34537 non-null  object\n",
      "dtypes: int64(1), object(1)\n",
      "memory usage: 809.5+ KB\n"
     ]
    }
   ],
   "source": [
    "FOX_2020.info()"
   ]
  },
  {
   "cell_type": "code",
   "execution_count": 10,
   "metadata": {},
   "outputs": [
    {
     "data": {
      "text/plain": [
       "Date    0\n",
       "Text    0\n",
       "dtype: int64"
      ]
     },
     "execution_count": 10,
     "metadata": {},
     "output_type": "execute_result"
    }
   ],
   "source": [
    "FOX_2020.isna().sum()"
   ]
  },
  {
   "cell_type": "code",
   "execution_count": 11,
   "metadata": {},
   "outputs": [],
   "source": [
    "stopwords = stopwords.words('english')\n",
    "stopwords+= list(string.punctuation)\n",
    "stopwords+=[\"’\", '‘','said','says', \"'s\",'”','“',\"n't\",'-', \"''\", 'get', '--', '–']"
   ]
  },
  {
   "cell_type": "code",
   "execution_count": 12,
   "metadata": {},
   "outputs": [],
   "source": [
    "stopwords+= list(string.punctuation)"
   ]
  },
  {
   "cell_type": "code",
   "execution_count": 13,
   "metadata": {},
   "outputs": [],
   "source": [
    "stopwords_lowercase=['i','me','my','myself','we','our','ours','ourselves',\n",
    " 'you', \"you're\", \"you've\", \"you'll\",\"you'd\", 'your','yours', 'yourself',\n",
    "'yourselves', 'he','him','his', 'himself','she', \"she's\",\n",
    " 'her', 'hers','herself','it', \"it's\",'its', 'itself','they', 'them','their', 'theirs',\n",
    " 'themselves','what', 'which','who', 'whom','this', 'that',\n",
    " \"that'll\", 'these','those', 'am','is', 'are','was', 'were',\n",
    " 'be', 'been','being', 'have', 'has', 'had','having', 'do',\n",
    " 'does', 'did','doing', 'a', 'an', 'the','and', 'but',\n",
    " 'if', 'or','because','as','until', 'while','of','at','by', 'for','with','about','against',\n",
    " 'between','into','through','during', 'before','after','above','below',\n",
    " 'to','from','up','down', 'in','out','on','off',\n",
    " 'over','under','again','further', 'then','once','here','there',\n",
    " 'when','where','why','how', 'all','any','both','each', 'few','more',\n",
    " 'most','other', 'some','such', 'no','nor', 'not','only',\n",
    " 'own','same', 'so','than', 'too','very', 's','t',\n",
    " 'can','will','just','don', \"don't\",'should', \"should've\",'now',\n",
    " 'd','ll', 'm','o', 're','ve', 'y','ain',\n",
    " 'aren',\"aren't\", 'couldn',\"couldn't\", 'didn',\"didn't\", 'doesn',\"doesn't\",\n",
    " 'hadn',\"hadn't\", 'hasn',\"hasn't\", 'haven',\"haven't\", 'isn',\"isn't\",\n",
    " 'ma','mightn', \"mightn't\",'mustn', \"mustn't\",'needn', \"needn't\",'shan',\n",
    " \"shan't\",'shouldn',\"shouldn't\",'wasn',\"wasn't\",\n",
    " 'weren',\"weren't\", 'won',\"won't\", 'wouldn',\"wouldn't\"]"
   ]
  },
  {
   "cell_type": "code",
   "execution_count": 14,
   "metadata": {},
   "outputs": [],
   "source": [
    "for x in stopwords_lowercase:\n",
    "    stopwords.append(x.capitalize())"
   ]
  },
  {
   "cell_type": "code",
   "execution_count": 15,
   "metadata": {},
   "outputs": [],
   "source": [
    "def freq_dist_tokenizer(df):\n",
    "    tokenized_df= df.Text.apply(nltk.word_tokenize)\n",
    "    tokens=[]\n",
    "    for x in tokenized_df:\n",
    "        for y in x:\n",
    "            if y not in stopwords:\n",
    "                tokens.append(y.lower())\n",
    "    freq_dist=FreqDist(tokens).most_common(25)\n",
    "    return freq_dist"
   ]
  },
  {
   "cell_type": "code",
   "execution_count": 16,
   "metadata": {},
   "outputs": [],
   "source": [
    "tokenized_FOX= FOX_2020.Text.apply(nltk.word_tokenize)"
   ]
  },
  {
   "cell_type": "code",
   "execution_count": 17,
   "metadata": {},
   "outputs": [
    {
     "data": {
      "text/plain": [
       "0        ['The, Five, ', make, their, predictions, for,...\n",
       "1                 [The, best, of, 'The, Five, ', in, 2019]\n",
       "2        [Hate, crimes, at, houses, of, worship, up, ne...\n",
       "3             [US, sending, 750, troops, to, Middle, East]\n",
       "4        [Pompeo, postpones, trip, to, Ukraine, after, ...\n",
       "                               ...                        \n",
       "34534    [Seattle, Mayor, Durkan, asks, City, Council, ...\n",
       "34535    [Georgia, judge, grants, $, 500G, bond, to, At...\n",
       "34536    [Chad, Daybell, predicted, wife, 's, death, th...\n",
       "34537    [LA, City, Council, member, announces, '1st, s...\n",
       "34538    [Florida, woman, had, hitman, kill, stepfather...\n",
       "Name: Text, Length: 34537, dtype: object"
      ]
     },
     "execution_count": 17,
     "metadata": {},
     "output_type": "execute_result"
    }
   ],
   "source": [
    "tokenized_FOX"
   ]
  },
  {
   "cell_type": "code",
   "execution_count": 18,
   "metadata": {},
   "outputs": [],
   "source": [
    "tokens=[]\n",
    "for x in tokenized_FOX:\n",
    "    for y in x:\n",
    "        if y not in stopwords:\n",
    "            tokens.append(y.lower())"
   ]
  },
  {
   "cell_type": "code",
   "execution_count": 19,
   "metadata": {},
   "outputs": [
    {
     "data": {
      "text/plain": [
       "305290"
      ]
     },
     "execution_count": 19,
     "metadata": {},
     "output_type": "execute_result"
    }
   ],
   "source": [
    "len(tokens)"
   ]
  },
  {
   "cell_type": "code",
   "execution_count": 20,
   "metadata": {},
   "outputs": [],
   "source": [
    "fox_top_25=FreqDist(tokens).most_common(25)"
   ]
  },
  {
   "cell_type": "code",
   "execution_count": 21,
   "metadata": {},
   "outputs": [
    {
     "data": {
      "text/plain": [
       "[('coronavirus', 6905),\n",
       " ('trump', 2762),\n",
       " ('new', 1945),\n",
       " ('amid', 1349),\n",
       " ('police', 1206),\n",
       " ('us', 1195),\n",
       " ('pandemic', 950),\n",
       " ('man', 945),\n",
       " ('biden', 819),\n",
       " ('report', 793),\n",
       " ('say', 762),\n",
       " ('woman', 729),\n",
       " ('day', 703),\n",
       " ('2020', 654),\n",
       " ('home', 648),\n",
       " ('covid-19', 618),\n",
       " ('california', 603),\n",
       " ('house', 566),\n",
       " ('people', 557),\n",
       " ('help', 551),\n",
       " ('family', 550),\n",
       " ('state', 547),\n",
       " ('video', 542),\n",
       " ('outbreak', 542),\n",
       " ('first', 533)]"
      ]
     },
     "execution_count": 21,
     "metadata": {},
     "output_type": "execute_result"
    }
   ],
   "source": [
    "fox_top_25"
   ]
  },
  {
   "cell_type": "markdown",
   "metadata": {},
   "source": [
    "1. Create time series modeling of the most popular word throughout each of the months/days\n",
    "2. Dive into the coronavirus months\n",
    "3. Break down each months most popular words"
   ]
  },
  {
   "cell_type": "markdown",
   "metadata": {},
   "source": [
    "# CNN"
   ]
  },
  {
   "cell_type": "markdown",
   "metadata": {},
   "source": [
    "I discovered that CNN had a lot of missing data so I had to go back and re-webscrape some of the data. I decided to cut that portion out of the jupyter notebook for cleaniness and structural flow."
   ]
  },
  {
   "cell_type": "code",
   "execution_count": 22,
   "metadata": {},
   "outputs": [],
   "source": [
    "CNN= pd.read_csv('CNN_2020_Final.csv')"
   ]
  },
  {
   "cell_type": "code",
   "execution_count": 23,
   "metadata": {},
   "outputs": [
    {
     "name": "stdout",
     "output_type": "stream",
     "text": [
      "<class 'pandas.core.frame.DataFrame'>\n",
      "RangeIndex: 20284 entries, 0 to 20283\n",
      "Data columns (total 2 columns):\n",
      " #   Column  Non-Null Count  Dtype \n",
      "---  ------  --------------  ----- \n",
      " 0   Date    20284 non-null  int64 \n",
      " 1   Text    20239 non-null  object\n",
      "dtypes: int64(1), object(1)\n",
      "memory usage: 317.1+ KB\n"
     ]
    }
   ],
   "source": [
    "CNN.info()"
   ]
  },
  {
   "cell_type": "code",
   "execution_count": 24,
   "metadata": {},
   "outputs": [
    {
     "data": {
      "text/html": [
       "<div>\n",
       "<style scoped>\n",
       "    .dataframe tbody tr th:only-of-type {\n",
       "        vertical-align: middle;\n",
       "    }\n",
       "\n",
       "    .dataframe tbody tr th {\n",
       "        vertical-align: top;\n",
       "    }\n",
       "\n",
       "    .dataframe thead th {\n",
       "        text-align: right;\n",
       "    }\n",
       "</style>\n",
       "<table border=\"1\" class=\"dataframe\">\n",
       "  <thead>\n",
       "    <tr style=\"text-align: right;\">\n",
       "      <th></th>\n",
       "      <th>Date</th>\n",
       "      <th>Text</th>\n",
       "    </tr>\n",
       "  </thead>\n",
       "  <tbody>\n",
       "    <tr>\n",
       "      <th>0</th>\n",
       "      <td>20200101</td>\n",
       "      <td>2020 new laws</td>\n",
       "    </tr>\n",
       "    <tr>\n",
       "      <th>1</th>\n",
       "      <td>20200101</td>\n",
       "      <td>Pope</td>\n",
       "    </tr>\n",
       "    <tr>\n",
       "      <th>2</th>\n",
       "      <td>20200101</td>\n",
       "      <td>Zoo fire</td>\n",
       "    </tr>\n",
       "    <tr>\n",
       "      <th>3</th>\n",
       "      <td>20200101</td>\n",
       "      <td>Stacy London</td>\n",
       "    </tr>\n",
       "    <tr>\n",
       "      <th>4</th>\n",
       "      <td>20200101</td>\n",
       "      <td>Richest person</td>\n",
       "    </tr>\n",
       "  </tbody>\n",
       "</table>\n",
       "</div>"
      ],
      "text/plain": [
       "       Date            Text\n",
       "0  20200101   2020 new laws\n",
       "1  20200101          Pope  \n",
       "2  20200101        Zoo fire\n",
       "3  20200101   Stacy London \n",
       "4  20200101  Richest person"
      ]
     },
     "execution_count": 24,
     "metadata": {},
     "output_type": "execute_result"
    }
   ],
   "source": [
    "CNN.head()"
   ]
  },
  {
   "cell_type": "code",
   "execution_count": 25,
   "metadata": {},
   "outputs": [
    {
     "data": {
      "text/plain": [
       "Date     0\n",
       "Text    45\n",
       "dtype: int64"
      ]
     },
     "execution_count": 25,
     "metadata": {},
     "output_type": "execute_result"
    }
   ],
   "source": [
    "CNN.isna().sum()"
   ]
  },
  {
   "cell_type": "code",
   "execution_count": 26,
   "metadata": {},
   "outputs": [],
   "source": [
    "CNN.dropna(inplace=True)"
   ]
  },
  {
   "cell_type": "code",
   "execution_count": 27,
   "metadata": {},
   "outputs": [
    {
     "data": {
      "text/plain": [
       "Date    0\n",
       "Text    0\n",
       "dtype: int64"
      ]
     },
     "execution_count": 27,
     "metadata": {},
     "output_type": "execute_result"
    }
   ],
   "source": [
    "CNN.isna().sum()"
   ]
  },
  {
   "cell_type": "code",
   "execution_count": 28,
   "metadata": {},
   "outputs": [
    {
     "data": {
      "text/plain": [
       "[('trump', 1684),\n",
       " ('coronavirus', 1373),\n",
       " ('new', 904),\n",
       " ('us', 772),\n",
       " ('covid-19', 500),\n",
       " ('could', 455),\n",
       " ('world', 380),\n",
       " ('see', 371),\n",
       " ('opinion', 349),\n",
       " ('pandemic', 348),\n",
       " ('analysis', 347),\n",
       " ('2020', 326),\n",
       " ('may', 320),\n",
       " ('people', 314),\n",
       " ('one', 298),\n",
       " ('day', 288),\n",
       " ('home', 285),\n",
       " ('first', 272),\n",
       " ('man', 271),\n",
       " ('biden', 270),\n",
       " ('virus', 266),\n",
       " ('house', 263),\n",
       " ('police', 259),\n",
       " ('back', 247),\n",
       " ('help', 241)]"
      ]
     },
     "execution_count": 28,
     "metadata": {},
     "output_type": "execute_result"
    }
   ],
   "source": [
    "freq_dist_tokenizer(CNN)"
   ]
  },
  {
   "cell_type": "code",
   "execution_count": 29,
   "metadata": {
    "scrolled": false
   },
   "outputs": [
    {
     "data": {
      "text/plain": [
       "[('coronavirus', 6905),\n",
       " ('trump', 2762),\n",
       " ('new', 1945),\n",
       " ('amid', 1349),\n",
       " ('police', 1206),\n",
       " ('us', 1195),\n",
       " ('pandemic', 950),\n",
       " ('man', 945),\n",
       " ('biden', 819),\n",
       " ('report', 793),\n",
       " ('say', 762),\n",
       " ('woman', 729),\n",
       " ('day', 703),\n",
       " ('2020', 654),\n",
       " ('home', 648),\n",
       " ('covid-19', 618),\n",
       " ('california', 603),\n",
       " ('house', 566),\n",
       " ('people', 557),\n",
       " ('help', 551),\n",
       " ('family', 550),\n",
       " ('state', 547),\n",
       " ('video', 542),\n",
       " ('outbreak', 542),\n",
       " ('first', 533)]"
      ]
     },
     "execution_count": 29,
     "metadata": {},
     "output_type": "execute_result"
    }
   ],
   "source": [
    "fox_top_25"
   ]
  },
  {
   "cell_type": "code",
   "execution_count": 30,
   "metadata": {},
   "outputs": [
    {
     "name": "stdout",
     "output_type": "stream",
     "text": [
      "1. coronavirus (6905)\n",
      "2. trump (2762)\n",
      "3. new (1945)\n",
      "4. amid (1349)\n",
      "5. police (1206)\n",
      "6. us (1195)\n",
      "7. pandemic (950)\n",
      "8. man (945)\n",
      "9. biden (819)\n",
      "10. report (793)\n",
      "11. say (762)\n",
      "12. woman (729)\n",
      "13. day (703)\n",
      "14. 2020 (654)\n",
      "15. home (648)\n",
      "16. covid-19 (618)\n",
      "17. california (603)\n",
      "18. house (566)\n",
      "19. people (557)\n",
      "20. help (551)\n",
      "21. family (550)\n",
      "22. state (547)\n",
      "23. video (542)\n",
      "24. outbreak (542)\n",
      "25. first (533)\n"
     ]
    }
   ],
   "source": [
    "counter=1\n",
    "for x in fox_top_25:\n",
    "    print(str(counter) + '. ' + x[0]+ ' (' + str(x[1]) + ')')\n",
    "    counter+=1"
   ]
  },
  {
   "cell_type": "code",
   "execution_count": 31,
   "metadata": {},
   "outputs": [],
   "source": [
    "CNN_Top_25=[('trump', 1684),\n",
    " ('coronavirus', 1373),\n",
    " ('new', 904),\n",
    " ('us', 772),\n",
    " ('covid-19', 500),\n",
    " ('could', 455),\n",
    " ('world', 380),\n",
    " ('see', 371),\n",
    " ('opinion', 349),\n",
    " ('pandemic', 348),\n",
    " ('analysis', 347),\n",
    " ('2020', 326),\n",
    " ('may', 320),\n",
    " ('people', 314),\n",
    " ('one', 298),\n",
    " ('day', 288),\n",
    " ('home', 285),\n",
    " ('first', 272),\n",
    " ('man', 271),\n",
    " ('biden', 270),\n",
    " ('virus', 266),\n",
    " ('house', 263),\n",
    " ('police', 259),\n",
    " ('back', 247),\n",
    " ('help', 241)]"
   ]
  },
  {
   "cell_type": "code",
   "execution_count": 32,
   "metadata": {},
   "outputs": [
    {
     "name": "stdout",
     "output_type": "stream",
     "text": [
      "1. trump (1684)\n",
      "2. coronavirus (1373)\n",
      "3. new (904)\n",
      "4. us (772)\n",
      "5. covid-19 (500)\n",
      "6. could (455)\n",
      "7. world (380)\n",
      "8. see (371)\n",
      "9. opinion (349)\n",
      "10. pandemic (348)\n",
      "11. analysis (347)\n",
      "12. 2020 (326)\n",
      "13. may (320)\n",
      "14. people (314)\n",
      "15. one (298)\n",
      "16. day (288)\n",
      "17. home (285)\n",
      "18. first (272)\n",
      "19. man (271)\n",
      "20. biden (270)\n",
      "21. virus (266)\n",
      "22. house (263)\n",
      "23. police (259)\n",
      "24. back (247)\n",
      "25. help (241)\n"
     ]
    }
   ],
   "source": [
    "counter=1\n",
    "for x in CNN_Top_25:\n",
    "    print(str(counter) + '. ' + x[0]+ ' (' + str(x[1]) + ')')\n",
    "    counter+=1"
   ]
  },
  {
   "cell_type": "markdown",
   "metadata": {},
   "source": [
    "Preliminary analysis of the 2020 data:                                         \n",
    "    FoxNews Top 25___________________________ CNN Top 25  \n",
    "    -Fox News Top 25                           -CNN Top 25\n",
    "    1. coronavirus (6905)                    1. trump (1684)  \n",
    "    2. trump (2762)                          2. coronavirus (1373)\n",
    "    3. new (1945)                            3. new (904)\n",
    "    4. amid (1349)                           4. us (772)\n",
    "    5. police (1206)                         5. covid-19 (500)\n",
    "    6. us (1195)                             6. could (455)\n",
    "    7. pandemic (950)                        7. world (380)\n",
    "    8. man (945)                             8. see (371)\n",
    "    9. biden (819)                           9. opinion (349)\n",
    "    10. report (793)                        10. pandemic (348)\n",
    "    11. say (762)                           11. analysis (347)\n",
    "    12. woman (729)                         12. 2020 (326)\n",
    "    13. day (703)                           13. may (320)\n",
    "    14. 2020 (654)                          14. people (314)\n",
    "    15. home (648)                          15. one (298)\n",
    "    16. covid-19 (618)                      16. day (288)\n",
    "    17. california (603)                    17. home (285)\n",
    "    18. house (566)                         18. first (272)\n",
    "    19. people (557)                        19. man (271)\n",
    "    20. help (551)                          20. biden (270)\n",
    "    21. family (550)                        21. virus (266)\n",
    "    22. state (547)                         22. house (263)\n",
    "    23. video (542)                         23. police (259)\n",
    "    24. outbreak (542)                      24. back (247)\n",
    "    25. first (533)                         25. help (241)"
   ]
  },
  {
   "cell_type": "code",
   "execution_count": null,
   "metadata": {},
   "outputs": [],
   "source": []
  }
 ],
 "metadata": {
  "kernelspec": {
   "display_name": "Python 3",
   "language": "python",
   "name": "python3"
  },
  "language_info": {
   "codemirror_mode": {
    "name": "ipython",
    "version": 3
   },
   "file_extension": ".py",
   "mimetype": "text/x-python",
   "name": "python",
   "nbconvert_exporter": "python",
   "pygments_lexer": "ipython3",
   "version": "3.8.3"
  }
 },
 "nbformat": 4,
 "nbformat_minor": 4
}
